{
 "cells": [
  {
   "cell_type": "markdown",
   "metadata": {},
   "source": [
    "# 数ベクトル空間における線形独立性\n",
    "\n",
    "- $m,n\\geq 1$ : 自然数\n",
    "\n",
    "**問題** 数ベクトルの集合$\\{\\boldsymbol{x}_1,\\boldsymbol{x}_2,\\dots,\\boldsymbol{x}_n\\}\\subset \\Bbbk^m$は線型独立かどうか判定せよ。\n",
    "\n",
    "**方針** 行列 $X=\\begin{bmatrix}\\boldsymbol{x}_1 & \\boldsymbol{x}_2 & \\dots & \\boldsymbol{x}_n\\end{bmatrix}\\in M_{m,n}(\\Bbbk)$に対して、行標準形$\\mathrm{rref}(X)$を計算することで、$\\mathrm{Ker}(X)=\\{\\boldsymbol{0}\\}$であるかどうかを判定する。\n",
    "\n",
    "- 行基本変形で、$\\mathrm{Ker}\\left(X\\right)$は変わらない。\n",
    "- $\\mathrm{Ker}\\left(X\\right)=\\{\\boldsymbol{0}\\}$であるための必要十分条件は、\n",
    "$$\n",
    "\\mathrm{rref}(X)=\\begin{bmatrix}\n",
    "E_n \\\\ O_{m-n,n}\n",
    "\\end{bmatrix}\\in M_{m,n}(\\Bbbk)\n",
    "$$\n",
    "となることである。\n",
    "\n"
   ]
  },
  {
   "cell_type": "code",
   "execution_count": 46,
   "metadata": {},
   "outputs": [],
   "source": [
    "from sympy import *;\n",
    "import random\n",
    "init_printing()\n",
    "\n",
    "def rand_reduced_row_echelon_matrix(m, n, pivot_columns, d):\n",
    "    pivot_columns = [p - 1 for p in pivot_columns]\n",
    "    \n",
    "    if len(pivot_columns) > min(m, n):\n",
    "        raise ValueError(\"pivot_columnsの長さは m と n の最小値を超えてはいけません。\")\n",
    "    \n",
    "    while True:\n",
    "        # m x nのランダムな整数行列を生成します。\n",
    "        matrix = Matrix([[random.randint(-d, d) for _ in range(n)] for _ in range(m)])\n",
    "\n",
    "        # 行簡約形の主成分の位置を取得します。\n",
    "        rref_matrix, rref_pivots = matrix.rref()\n",
    "\n",
    "        # 主成分の位置が指定された位置と一致するかを確認します。\n",
    "        if list(rref_pivots) == pivot_columns:\n",
    "            return matrix\n",
    "\n",
    "def columns(matrix):\n",
    "    matrix_cols =[matrix[:, i] for i in range(matrix.cols)]\n",
    "    return matrix_cols"
   ]
  },
  {
   "cell_type": "code",
   "execution_count": 47,
   "metadata": {},
   "outputs": [],
   "source": [
    "def gauss_jordan_elimination(matrix):\n",
    "    A = matrix.copy()\n",
    "    \n",
    "    display(A)\n",
    "    \n",
    "    rows, cols = A.shape\n",
    "\n",
    "    r = 0\n",
    "    for c in range(cols):\n",
    "        pivot_row = None\n",
    "        for i in range(r, rows):\n",
    "            if A[i, c] != 0:\n",
    "                pivot_row = i\n",
    "                break\n",
    "\n",
    "        if pivot_row is None:\n",
    "            continue\n",
    "\n",
    "        A.row_swap(r, pivot_row)\n",
    "\n",
    "        pivot = A[r, c]\n",
    "        if pivot == 0:\n",
    "            continue\n",
    "\n",
    "        A[r, :] = A[r, :] / pivot\n",
    "\n",
    "        for i in range(rows):\n",
    "            if i == r:\n",
    "                continue\n",
    "            factor = A[i, c]\n",
    "            A[i, :] = A[i, :] - factor * A[r, :]\n",
    "\n",
    "        display(A)\n",
    "\n",
    "        r += 1\n",
    "        if r == rows:\n",
    "            break\n",
    "\n",
    "    return"
   ]
  },
  {
   "cell_type": "code",
   "execution_count": 48,
   "metadata": {},
   "outputs": [],
   "source": [
    "A1=rand_reduced_row_echelon_matrix(3,3,[1,2],3);\n",
    "A2=rand_reduced_row_echelon_matrix(3,3,[1,2,3],2);"
   ]
  },
  {
   "cell_type": "markdown",
   "metadata": {},
   "source": [
    "**問題1** 以下の数ベクトルの集合が線型独立かどうか判定せよ。"
   ]
  },
  {
   "cell_type": "code",
   "execution_count": 49,
   "metadata": {},
   "outputs": [
    {
     "data": {
      "image/png": "[encoded data removed]",
      "text/latex": [
       "$\\displaystyle \\left[ \\left[\\begin{matrix}-1\\\\0\\\\2\\end{matrix}\\right], \\  \\left[\\begin{matrix}-1\\\\0\\\\-2\\end{matrix}\\right], \\  \\left[\\begin{matrix}-1\\\\0\\\\-2\\end{matrix}\\right]\\right]$"
      ],
      "text/plain": [
       "⎡⎡-1⎤  ⎡-1⎤  ⎡-1⎤⎤\n",
       "⎢⎢  ⎥  ⎢  ⎥  ⎢  ⎥⎥\n",
       "⎢⎢0 ⎥, ⎢0 ⎥, ⎢0 ⎥⎥\n",
       "⎢⎢  ⎥  ⎢  ⎥  ⎢  ⎥⎥\n",
       "⎣⎣2 ⎦  ⎣-2⎦  ⎣-2⎦⎦"
      ]
     },
     "execution_count": 49,
     "metadata": {},
     "output_type": "execute_result"
    }
   ],
   "source": [
    "columns(A1)"
   ]
  },
  {
   "cell_type": "code",
   "execution_count": 50,
   "metadata": {},
   "outputs": [
    {
     "data": {
      "image/png": "[encoded data removed]",
      "text/latex": [
       "$\\displaystyle \\left[ \\left[\\begin{matrix}0\\\\1\\\\1\\end{matrix}\\right], \\  \\left[\\begin{matrix}1\\\\-1\\\\2\\end{matrix}\\right], \\  \\left[\\begin{matrix}-1\\\\-2\\\\-1\\end{matrix}\\right]\\right]$"
      ],
      "text/plain": [
       "⎡⎡0⎤  ⎡1 ⎤  ⎡-1⎤⎤\n",
       "⎢⎢ ⎥  ⎢  ⎥  ⎢  ⎥⎥\n",
       "⎢⎢1⎥, ⎢-1⎥, ⎢-2⎥⎥\n",
       "⎢⎢ ⎥  ⎢  ⎥  ⎢  ⎥⎥\n",
       "⎣⎣1⎦  ⎣2 ⎦  ⎣-1⎦⎦"
      ]
     },
     "execution_count": 50,
     "metadata": {},
     "output_type": "execute_result"
    }
   ],
   "source": [
    "columns(A2)"
   ]
  },
  {
   "cell_type": "code",
   "execution_count": 51,
   "metadata": {},
   "outputs": [
    {
     "data": {
      "image/png": "[encoded data removed]",
      "text/latex": [
       "$\\displaystyle \\left[\\begin{matrix}-1 & -1 & -1\\\\0 & 0 & 0\\\\2 & -2 & -2\\end{matrix}\\right]$"
      ],
      "text/plain": [
       "⎡-1  -1  -1⎤\n",
       "⎢          ⎥\n",
       "⎢0   0   0 ⎥\n",
       "⎢          ⎥\n",
       "⎣2   -2  -2⎦"
      ]
     },
     "metadata": {},
     "output_type": "display_data"
    },
    {
     "data": {
      "image/png": "[encoded data removed]",
      "text/latex": [
       "$\\displaystyle \\left[\\begin{matrix}1 & 1 & 1\\\\0 & 0 & 0\\\\0 & -4 & -4\\end{matrix}\\right]$"
      ],
      "text/plain": [
       "⎡1  1   1 ⎤\n",
       "⎢         ⎥\n",
       "⎢0  0   0 ⎥\n",
       "⎢         ⎥\n",
       "⎣0  -4  -4⎦"
      ]
     },
     "metadata": {},
     "output_type": "display_data"
    },
    {
     "data": {
      "image/png": "[encoded data removed]",
      "text/latex": [
       "$\\displaystyle \\left[\\begin{matrix}1 & 0 & 0\\\\0 & 1 & 1\\\\0 & 0 & 0\\end{matrix}\\right]$"
      ],
      "text/plain": [
       "⎡1  0  0⎤\n",
       "⎢       ⎥\n",
       "⎢0  1  1⎥\n",
       "⎢       ⎥\n",
       "⎣0  0  0⎦"
      ]
     },
     "metadata": {},
     "output_type": "display_data"
    }
   ],
   "source": [
    "gauss_jordan_elimination(A1)"
   ]
  },
  {
   "cell_type": "code",
   "execution_count": 52,
   "metadata": {},
   "outputs": [
    {
     "data": {
      "image/png": "[encoded data removed]",
      "text/latex": [
       "$\\displaystyle \\left[\\begin{matrix}0 & 1 & -1\\\\1 & -1 & -2\\\\1 & 2 & -1\\end{matrix}\\right]$"
      ],
      "text/plain": [
       "⎡0  1   -1⎤\n",
       "⎢         ⎥\n",
       "⎢1  -1  -2⎥\n",
       "⎢         ⎥\n",
       "⎣1  2   -1⎦"
      ]
     },
     "metadata": {},
     "output_type": "display_data"
    },
    {
     "data": {
      "image/png": "[encoded data removed]",
      "text/latex": [
       "$\\displaystyle \\left[\\begin{matrix}1 & -1 & -2\\\\0 & 1 & -1\\\\0 & 3 & 1\\end{matrix}\\right]$"
      ],
      "text/plain": [
       "⎡1  -1  -2⎤\n",
       "⎢         ⎥\n",
       "⎢0  1   -1⎥\n",
       "⎢         ⎥\n",
       "⎣0  3   1 ⎦"
      ]
     },
     "metadata": {},
     "output_type": "display_data"
    },
    {
     "data": {
      "image/png": "[encoded data removed]",
      "text/latex": [
       "$\\displaystyle \\left[\\begin{matrix}1 & 0 & -3\\\\0 & 1 & -1\\\\0 & 0 & 4\\end{matrix}\\right]$"
      ],
      "text/plain": [
       "⎡1  0  -3⎤\n",
       "⎢        ⎥\n",
       "⎢0  1  -1⎥\n",
       "⎢        ⎥\n",
       "⎣0  0  4 ⎦"
      ]
     },
     "metadata": {},
     "output_type": "display_data"
    },
    {
     "data": {
      "image/png": "[encoded data removed]",
      "text/latex": [
       "$\\displaystyle \\left[\\begin{matrix}1 & 0 & 0\\\\0 & 1 & 0\\\\0 & 0 & 1\\end{matrix}\\right]$"
      ],
      "text/plain": [
       "⎡1  0  0⎤\n",
       "⎢       ⎥\n",
       "⎢0  1  0⎥\n",
       "⎢       ⎥\n",
       "⎣0  0  1⎦"
      ]
     },
     "metadata": {},
     "output_type": "display_data"
    }
   ],
   "source": [
    "gauss_jordan_elimination(A2)"
   ]
  },
  {
   "cell_type": "code",
   "execution_count": 53,
   "metadata": {},
   "outputs": [],
   "source": [
    "B1=rand_reduced_row_echelon_matrix(4,3,[1,2,3],2);\n",
    "B2=rand_reduced_row_echelon_matrix(4,3,[1,2],3);"
   ]
  },
  {
   "cell_type": "markdown",
   "metadata": {},
   "source": [
    "**問題2** 以下の数ベクトルの集合が線型独立かどうか判定せよ。"
   ]
  },
  {
   "cell_type": "code",
   "execution_count": 54,
   "metadata": {},
   "outputs": [
    {
     "data": {
      "image/png": "[encoded data removed]",
      "text/latex": [
       "$\\displaystyle \\left[ \\left[\\begin{matrix}-1\\\\-1\\\\0\\\\2\\end{matrix}\\right], \\  \\left[\\begin{matrix}0\\\\-2\\\\1\\\\2\\end{matrix}\\right], \\  \\left[\\begin{matrix}-1\\\\2\\\\0\\\\1\\end{matrix}\\right]\\right]$"
      ],
      "text/plain": [
       "⎡⎡-1⎤  ⎡0 ⎤  ⎡-1⎤⎤\n",
       "⎢⎢  ⎥  ⎢  ⎥  ⎢  ⎥⎥\n",
       "⎢⎢-1⎥  ⎢-2⎥  ⎢2 ⎥⎥\n",
       "⎢⎢  ⎥, ⎢  ⎥, ⎢  ⎥⎥\n",
       "⎢⎢0 ⎥  ⎢1 ⎥  ⎢0 ⎥⎥\n",
       "⎢⎢  ⎥  ⎢  ⎥  ⎢  ⎥⎥\n",
       "⎣⎣2 ⎦  ⎣2 ⎦  ⎣1 ⎦⎦"
      ]
     },
     "execution_count": 54,
     "metadata": {},
     "output_type": "execute_result"
    }
   ],
   "source": [
    "columns(B1)"
   ]
  },
  {
   "cell_type": "code",
   "execution_count": 55,
   "metadata": {},
   "outputs": [
    {
     "data": {
      "image/png": "[encoded data removed]",
      "text/latex": [
       "$\\displaystyle \\left[ \\left[\\begin{matrix}-1\\\\-2\\\\-1\\\\0\\end{matrix}\\right], \\  \\left[\\begin{matrix}-1\\\\0\\\\-1\\\\2\\end{matrix}\\right], \\  \\left[\\begin{matrix}0\\\\-3\\\\0\\\\-3\\end{matrix}\\right]\\right]$"
      ],
      "text/plain": [
       "⎡⎡-1⎤  ⎡-1⎤  ⎡0 ⎤⎤\n",
       "⎢⎢  ⎥  ⎢  ⎥  ⎢  ⎥⎥\n",
       "⎢⎢-2⎥  ⎢0 ⎥  ⎢-3⎥⎥\n",
       "⎢⎢  ⎥, ⎢  ⎥, ⎢  ⎥⎥\n",
       "⎢⎢-1⎥  ⎢-1⎥  ⎢0 ⎥⎥\n",
       "⎢⎢  ⎥  ⎢  ⎥  ⎢  ⎥⎥\n",
       "⎣⎣0 ⎦  ⎣2 ⎦  ⎣-3⎦⎦"
      ]
     },
     "execution_count": 55,
     "metadata": {},
     "output_type": "execute_result"
    }
   ],
   "source": [
    "columns(B2)"
   ]
  },
  {
   "cell_type": "code",
   "execution_count": 56,
   "metadata": {},
   "outputs": [
    {
     "data": {
      "image/png": "[encoded data removed]",
      "text/latex": [
       "$\\displaystyle \\left[\\begin{matrix}-1 & 0 & -1\\\\-1 & -2 & 2\\\\0 & 1 & 0\\\\2 & 2 & 1\\end{matrix}\\right]$"
      ],
      "text/plain": [
       "⎡-1  0   -1⎤\n",
       "⎢          ⎥\n",
       "⎢-1  -2  2 ⎥\n",
       "⎢          ⎥\n",
       "⎢0   1   0 ⎥\n",
       "⎢          ⎥\n",
       "⎣2   2   1 ⎦"
      ]
     },
     "metadata": {},
     "output_type": "display_data"
    },
    {
     "data": {
      "image/png": "[encoded data removed]",
      "text/latex": [
       "$\\displaystyle \\left[\\begin{matrix}1 & 0 & 1\\\\0 & -2 & 3\\\\0 & 1 & 0\\\\0 & 2 & -1\\end{matrix}\\right]$"
      ],
      "text/plain": [
       "⎡1  0   1 ⎤\n",
       "⎢         ⎥\n",
       "⎢0  -2  3 ⎥\n",
       "⎢         ⎥\n",
       "⎢0  1   0 ⎥\n",
       "⎢         ⎥\n",
       "⎣0  2   -1⎦"
      ]
     },
     "metadata": {},
     "output_type": "display_data"
    },
    {
     "data": {
      "image/png": "[encoded data removed]",
      "text/latex": [
       "$\\displaystyle \\left[\\begin{matrix}1 & 0 & 1\\\\0 & 1 & - \\frac{3}{2}\\\\0 & 0 & \\frac{3}{2}\\\\0 & 0 & 2\\end{matrix}\\right]$"
      ],
      "text/plain": [
       "⎡1  0   1  ⎤\n",
       "⎢          ⎥\n",
       "⎢0  1  -3/2⎥\n",
       "⎢          ⎥\n",
       "⎢0  0  3/2 ⎥\n",
       "⎢          ⎥\n",
       "⎣0  0   2  ⎦"
      ]
     },
     "metadata": {},
     "output_type": "display_data"
    },
    {
     "data": {
      "image/png": "[encoded data removed]",
      "text/latex": [
       "$\\displaystyle \\left[\\begin{matrix}1 & 0 & 0\\\\0 & 1 & 0\\\\0 & 0 & 1\\\\0 & 0 & 0\\end{matrix}\\right]$"
      ],
      "text/plain": [
       "⎡1  0  0⎤\n",
       "⎢       ⎥\n",
       "⎢0  1  0⎥\n",
       "⎢       ⎥\n",
       "⎢0  0  1⎥\n",
       "⎢       ⎥\n",
       "⎣0  0  0⎦"
      ]
     },
     "metadata": {},
     "output_type": "display_data"
    }
   ],
   "source": [
    "gauss_jordan_elimination(B1)"
   ]
  },
  {
   "cell_type": "code",
   "execution_count": 57,
   "metadata": {},
   "outputs": [
    {
     "data": {
      "image/png": "[encoded data removed]",
      "text/latex": [
       "$\\displaystyle \\left[\\begin{matrix}-1 & -1 & 0\\\\-2 & 0 & -3\\\\-1 & -1 & 0\\\\0 & 2 & -3\\end{matrix}\\right]$"
      ],
      "text/plain": [
       "⎡-1  -1  0 ⎤\n",
       "⎢          ⎥\n",
       "⎢-2  0   -3⎥\n",
       "⎢          ⎥\n",
       "⎢-1  -1  0 ⎥\n",
       "⎢          ⎥\n",
       "⎣0   2   -3⎦"
      ]
     },
     "metadata": {},
     "output_type": "display_data"
    },
    {
     "data": {
      "image/png": "[encoded data removed]",
      "text/latex": [
       "$\\displaystyle \\left[\\begin{matrix}1 & 1 & 0\\\\0 & 2 & -3\\\\0 & 0 & 0\\\\0 & 2 & -3\\end{matrix}\\right]$"
      ],
      "text/plain": [
       "⎡1  1  0 ⎤\n",
       "⎢        ⎥\n",
       "⎢0  2  -3⎥\n",
       "⎢        ⎥\n",
       "⎢0  0  0 ⎥\n",
       "⎢        ⎥\n",
       "⎣0  2  -3⎦"
      ]
     },
     "metadata": {},
     "output_type": "display_data"
    },
    {
     "data": {
      "image/png": "[encoded data removed]",
      "text/latex": [
       "$\\displaystyle \\left[\\begin{matrix}1 & 0 & \\frac{3}{2}\\\\0 & 1 & - \\frac{3}{2}\\\\0 & 0 & 0\\\\0 & 0 & 0\\end{matrix}\\right]$"
      ],
      "text/plain": [
       "⎡1  0  3/2 ⎤\n",
       "⎢          ⎥\n",
       "⎢0  1  -3/2⎥\n",
       "⎢          ⎥\n",
       "⎢0  0   0  ⎥\n",
       "⎢          ⎥\n",
       "⎣0  0   0  ⎦"
      ]
     },
     "metadata": {},
     "output_type": "display_data"
    }
   ],
   "source": [
    "gauss_jordan_elimination(B2)"
   ]
  },
  {
   "cell_type": "code",
   "execution_count": 58,
   "metadata": {},
   "outputs": [],
   "source": [
    "C1=rand_reduced_row_echelon_matrix(4,4,[1,2,3],3);\n",
    "C2=rand_reduced_row_echelon_matrix(4,4,[1,2,3,4],2);\n",
    "C3=rand_reduced_row_echelon_matrix(4,4,[1,2,4],3);"
   ]
  },
  {
   "cell_type": "markdown",
   "metadata": {},
   "source": [
    "**問題3** 以下の数ベクトルの集合が線型独立かどうか判定せよ。"
   ]
  },
  {
   "cell_type": "code",
   "execution_count": 59,
   "metadata": {},
   "outputs": [
    {
     "data": {
      "image/png": "[encoded data removed]",
      "text/latex": [
       "$\\displaystyle \\left[ \\left[\\begin{matrix}1\\\\-2\\\\-3\\\\-3\\end{matrix}\\right], \\  \\left[\\begin{matrix}3\\\\0\\\\3\\\\-3\\end{matrix}\\right], \\  \\left[\\begin{matrix}2\\\\-1\\\\0\\\\-1\\end{matrix}\\right], \\  \\left[\\begin{matrix}-1\\\\2\\\\3\\\\-3\\end{matrix}\\right]\\right]$"
      ],
      "text/plain": [
       "⎡⎡1 ⎤  ⎡3 ⎤  ⎡2 ⎤  ⎡-1⎤⎤\n",
       "⎢⎢  ⎥  ⎢  ⎥  ⎢  ⎥  ⎢  ⎥⎥\n",
       "⎢⎢-2⎥  ⎢0 ⎥  ⎢-1⎥  ⎢2 ⎥⎥\n",
       "⎢⎢  ⎥, ⎢  ⎥, ⎢  ⎥, ⎢  ⎥⎥\n",
       "⎢⎢-3⎥  ⎢3 ⎥  ⎢0 ⎥  ⎢3 ⎥⎥\n",
       "⎢⎢  ⎥  ⎢  ⎥  ⎢  ⎥  ⎢  ⎥⎥\n",
       "⎣⎣-3⎦  ⎣-3⎦  ⎣-1⎦  ⎣-3⎦⎦"
      ]
     },
     "execution_count": 59,
     "metadata": {},
     "output_type": "execute_result"
    }
   ],
   "source": [
    "columns(C1)"
   ]
  },
  {
   "cell_type": "code",
   "execution_count": 60,
   "metadata": {},
   "outputs": [
    {
     "data": {
      "image/png": "[encoded data removed]",
      "text/latex": [
       "$\\displaystyle \\left[ \\left[\\begin{matrix}-1\\\\0\\\\-1\\\\1\\end{matrix}\\right], \\  \\left[\\begin{matrix}2\\\\-1\\\\-1\\\\1\\end{matrix}\\right], \\  \\left[\\begin{matrix}-1\\\\-1\\\\0\\\\1\\end{matrix}\\right], \\  \\left[\\begin{matrix}-2\\\\1\\\\2\\\\0\\end{matrix}\\right]\\right]$"
      ],
      "text/plain": [
       "⎡⎡-1⎤  ⎡2 ⎤  ⎡-1⎤  ⎡-2⎤⎤\n",
       "⎢⎢  ⎥  ⎢  ⎥  ⎢  ⎥  ⎢  ⎥⎥\n",
       "⎢⎢0 ⎥  ⎢-1⎥  ⎢-1⎥  ⎢1 ⎥⎥\n",
       "⎢⎢  ⎥, ⎢  ⎥, ⎢  ⎥, ⎢  ⎥⎥\n",
       "⎢⎢-1⎥  ⎢-1⎥  ⎢0 ⎥  ⎢2 ⎥⎥\n",
       "⎢⎢  ⎥  ⎢  ⎥  ⎢  ⎥  ⎢  ⎥⎥\n",
       "⎣⎣1 ⎦  ⎣1 ⎦  ⎣1 ⎦  ⎣0 ⎦⎦"
      ]
     },
     "execution_count": 60,
     "metadata": {},
     "output_type": "execute_result"
    }
   ],
   "source": [
    "columns(C2)"
   ]
  },
  {
   "cell_type": "code",
   "execution_count": 61,
   "metadata": {},
   "outputs": [
    {
     "data": {
      "image/png": "[encoded data removed]",
      "text/latex": [
       "$\\displaystyle \\left[ \\left[\\begin{matrix}1\\\\-1\\\\-3\\\\2\\end{matrix}\\right], \\  \\left[\\begin{matrix}3\\\\2\\\\-3\\\\0\\end{matrix}\\right], \\  \\left[\\begin{matrix}0\\\\0\\\\0\\\\0\\end{matrix}\\right], \\  \\left[\\begin{matrix}-2\\\\-3\\\\-2\\\\1\\end{matrix}\\right]\\right]$"
      ],
      "text/plain": [
       "⎡⎡1 ⎤  ⎡3 ⎤  ⎡0⎤  ⎡-2⎤⎤\n",
       "⎢⎢  ⎥  ⎢  ⎥  ⎢ ⎥  ⎢  ⎥⎥\n",
       "⎢⎢-1⎥  ⎢2 ⎥  ⎢0⎥  ⎢-3⎥⎥\n",
       "⎢⎢  ⎥, ⎢  ⎥, ⎢ ⎥, ⎢  ⎥⎥\n",
       "⎢⎢-3⎥  ⎢-3⎥  ⎢0⎥  ⎢-2⎥⎥\n",
       "⎢⎢  ⎥  ⎢  ⎥  ⎢ ⎥  ⎢  ⎥⎥\n",
       "⎣⎣2 ⎦  ⎣0 ⎦  ⎣0⎦  ⎣1 ⎦⎦"
      ]
     },
     "execution_count": 61,
     "metadata": {},
     "output_type": "execute_result"
    }
   ],
   "source": [
    "columns(C3)"
   ]
  },
  {
   "cell_type": "code",
   "execution_count": 62,
   "metadata": {},
   "outputs": [
    {
     "data": {
      "image/png": "[encoded data removed]",
      "text/latex": [
       "$\\displaystyle \\left[\\begin{matrix}1 & 3 & 2 & -1\\\\-2 & 0 & -1 & 2\\\\-3 & 3 & 0 & 3\\\\-3 & -3 & -1 & -3\\end{matrix}\\right]$"
      ],
      "text/plain": [
       "⎡1   3   2   -1⎤\n",
       "⎢              ⎥\n",
       "⎢-2  0   -1  2 ⎥\n",
       "⎢              ⎥\n",
       "⎢-3  3   0   3 ⎥\n",
       "⎢              ⎥\n",
       "⎣-3  -3  -1  -3⎦"
      ]
     },
     "metadata": {},
     "output_type": "display_data"
    },
    {
     "data": {
      "image/png": "[encoded data removed]",
      "text/latex": [
       "$\\displaystyle \\left[\\begin{matrix}1 & 3 & 2 & -1\\\\0 & 6 & 3 & 0\\\\0 & 12 & 6 & 0\\\\0 & 6 & 5 & -6\\end{matrix}\\right]$"
      ],
      "text/plain": [
       "⎡1  3   2  -1⎤\n",
       "⎢            ⎥\n",
       "⎢0  6   3  0 ⎥\n",
       "⎢            ⎥\n",
       "⎢0  12  6  0 ⎥\n",
       "⎢            ⎥\n",
       "⎣0  6   5  -6⎦"
      ]
     },
     "metadata": {},
     "output_type": "display_data"
    },
    {
     "data": {
      "image/png": "[encoded data removed]",
      "text/latex": [
       "$\\displaystyle \\left[\\begin{matrix}1 & 0 & \\frac{1}{2} & -1\\\\0 & 1 & \\frac{1}{2} & 0\\\\0 & 0 & 0 & 0\\\\0 & 0 & 2 & -6\\end{matrix}\\right]$"
      ],
      "text/plain": [
       "⎡1  0  1/2  -1⎤\n",
       "⎢             ⎥\n",
       "⎢0  1  1/2  0 ⎥\n",
       "⎢             ⎥\n",
       "⎢0  0   0   0 ⎥\n",
       "⎢             ⎥\n",
       "⎣0  0   2   -6⎦"
      ]
     },
     "metadata": {},
     "output_type": "display_data"
    },
    {
     "data": {
      "image/png": "[encoded data removed]",
      "text/latex": [
       "$\\displaystyle \\left[\\begin{matrix}1 & 0 & 0 & \\frac{1}{2}\\\\0 & 1 & 0 & \\frac{3}{2}\\\\0 & 0 & 1 & -3\\\\0 & 0 & 0 & 0\\end{matrix}\\right]$"
      ],
      "text/plain": [
       "⎡1  0  0  1/2⎤\n",
       "⎢            ⎥\n",
       "⎢0  1  0  3/2⎥\n",
       "⎢            ⎥\n",
       "⎢0  0  1  -3 ⎥\n",
       "⎢            ⎥\n",
       "⎣0  0  0   0 ⎦"
      ]
     },
     "metadata": {},
     "output_type": "display_data"
    }
   ],
   "source": [
    "gauss_jordan_elimination(C1)"
   ]
  },
  {
   "cell_type": "code",
   "execution_count": 63,
   "metadata": {},
   "outputs": [
    {
     "data": {
      "image/png": "[encoded data removed]",
      "text/latex": [
       "$\\displaystyle \\left[\\begin{matrix}-1 & 2 & -1 & -2\\\\0 & -1 & -1 & 1\\\\-1 & -1 & 0 & 2\\\\1 & 1 & 1 & 0\\end{matrix}\\right]$"
      ],
      "text/plain": [
       "⎡-1  2   -1  -2⎤\n",
       "⎢              ⎥\n",
       "⎢0   -1  -1  1 ⎥\n",
       "⎢              ⎥\n",
       "⎢-1  -1  0   2 ⎥\n",
       "⎢              ⎥\n",
       "⎣1   1   1   0 ⎦"
      ]
     },
     "metadata": {},
     "output_type": "display_data"
    },
    {
     "data": {
      "image/png": "[encoded data removed]",
      "text/latex": [
       "$\\displaystyle \\left[\\begin{matrix}1 & -2 & 1 & 2\\\\0 & -1 & -1 & 1\\\\0 & -3 & 1 & 4\\\\0 & 3 & 0 & -2\\end{matrix}\\right]$"
      ],
      "text/plain": [
       "⎡1  -2  1   2 ⎤\n",
       "⎢             ⎥\n",
       "⎢0  -1  -1  1 ⎥\n",
       "⎢             ⎥\n",
       "⎢0  -3  1   4 ⎥\n",
       "⎢             ⎥\n",
       "⎣0  3   0   -2⎦"
      ]
     },
     "metadata": {},
     "output_type": "display_data"
    },
    {
     "data": {
      "image/png": "[encoded data removed]",
      "text/latex": [
       "$\\displaystyle \\left[\\begin{matrix}1 & 0 & 3 & 0\\\\0 & 1 & 1 & -1\\\\0 & 0 & 4 & 1\\\\0 & 0 & -3 & 1\\end{matrix}\\right]$"
      ],
      "text/plain": [
       "⎡1  0  3   0 ⎤\n",
       "⎢            ⎥\n",
       "⎢0  1  1   -1⎥\n",
       "⎢            ⎥\n",
       "⎢0  0  4   1 ⎥\n",
       "⎢            ⎥\n",
       "⎣0  0  -3  1 ⎦"
      ]
     },
     "metadata": {},
     "output_type": "display_data"
    },
    {
     "data": {
      "image/png": "[encoded data removed]",
      "text/latex": [
       "$\\displaystyle \\left[\\begin{matrix}1 & 0 & 0 & - \\frac{3}{4}\\\\0 & 1 & 0 & - \\frac{5}{4}\\\\0 & 0 & 1 & \\frac{1}{4}\\\\0 & 0 & 0 & \\frac{7}{4}\\end{matrix}\\right]$"
      ],
      "text/plain": [
       "⎡1  0  0  -3/4⎤\n",
       "⎢             ⎥\n",
       "⎢0  1  0  -5/4⎥\n",
       "⎢             ⎥\n",
       "⎢0  0  1  1/4 ⎥\n",
       "⎢             ⎥\n",
       "⎣0  0  0  7/4 ⎦"
      ]
     },
     "metadata": {},
     "output_type": "display_data"
    },
    {
     "data": {
      "image/png": "[encoded data removed]",
      "text/latex": [
       "$\\displaystyle \\left[\\begin{matrix}1 & 0 & 0 & 0\\\\0 & 1 & 0 & 0\\\\0 & 0 & 1 & 0\\\\0 & 0 & 0 & 1\\end{matrix}\\right]$"
      ],
      "text/plain": [
       "⎡1  0  0  0⎤\n",
       "⎢          ⎥\n",
       "⎢0  1  0  0⎥\n",
       "⎢          ⎥\n",
       "⎢0  0  1  0⎥\n",
       "⎢          ⎥\n",
       "⎣0  0  0  1⎦"
      ]
     },
     "metadata": {},
     "output_type": "display_data"
    }
   ],
   "source": [
    "gauss_jordan_elimination(C2)"
   ]
  },
  {
   "cell_type": "code",
   "execution_count": 64,
   "metadata": {},
   "outputs": [
    {
     "data": {
      "image/png": "[encoded data removed]",
      "text/latex": [
       "$\\displaystyle \\left[\\begin{matrix}1 & 3 & 0 & -2\\\\-1 & 2 & 0 & -3\\\\-3 & -3 & 0 & -2\\\\2 & 0 & 0 & 1\\end{matrix}\\right]$"
      ],
      "text/plain": [
       "⎡1   3   0  -2⎤\n",
       "⎢             ⎥\n",
       "⎢-1  2   0  -3⎥\n",
       "⎢             ⎥\n",
       "⎢-3  -3  0  -2⎥\n",
       "⎢             ⎥\n",
       "⎣2   0   0  1 ⎦"
      ]
     },
     "metadata": {},
     "output_type": "display_data"
    },
    {
     "data": {
      "image/png": "[encoded data removed]",
      "text/latex": [
       "$\\displaystyle \\left[\\begin{matrix}1 & 3 & 0 & -2\\\\0 & 5 & 0 & -5\\\\0 & 6 & 0 & -8\\\\0 & -6 & 0 & 5\\end{matrix}\\right]$"
      ],
      "text/plain": [
       "⎡1  3   0  -2⎤\n",
       "⎢            ⎥\n",
       "⎢0  5   0  -5⎥\n",
       "⎢            ⎥\n",
       "⎢0  6   0  -8⎥\n",
       "⎢            ⎥\n",
       "⎣0  -6  0  5 ⎦"
      ]
     },
     "metadata": {},
     "output_type": "display_data"
    },
    {
     "data": {
      "image/png": "[encoded data removed]",
      "text/latex": [
       "$\\displaystyle \\left[\\begin{matrix}1 & 0 & 0 & 1\\\\0 & 1 & 0 & -1\\\\0 & 0 & 0 & -2\\\\0 & 0 & 0 & -1\\end{matrix}\\right]$"
      ],
      "text/plain": [
       "⎡1  0  0  1 ⎤\n",
       "⎢           ⎥\n",
       "⎢0  1  0  -1⎥\n",
       "⎢           ⎥\n",
       "⎢0  0  0  -2⎥\n",
       "⎢           ⎥\n",
       "⎣0  0  0  -1⎦"
      ]
     },
     "metadata": {},
     "output_type": "display_data"
    },
    {
     "data": {
      "image/png": "[encoded data removed]",
      "text/latex": [
       "$\\displaystyle \\left[\\begin{matrix}1 & 0 & 0 & 0\\\\0 & 1 & 0 & 0\\\\0 & 0 & 0 & 1\\\\0 & 0 & 0 & 0\\end{matrix}\\right]$"
      ],
      "text/plain": [
       "⎡1  0  0  0⎤\n",
       "⎢          ⎥\n",
       "⎢0  1  0  0⎥\n",
       "⎢          ⎥\n",
       "⎢0  0  0  1⎥\n",
       "⎢          ⎥\n",
       "⎣0  0  0  0⎦"
      ]
     },
     "metadata": {},
     "output_type": "display_data"
    }
   ],
   "source": [
    "gauss_jordan_elimination(C3)"
   ]
  }
 ],
 "metadata": {
  "kernelspec": {
   "display_name": "Python 3",
   "language": "python",
   "name": "python3"
  },
  "language_info": {
   "codemirror_mode": {
    "name": "ipython",
    "version": 3
   },
   "file_extension": ".py",
   "mimetype": "text/x-python",
   "name": "python",
   "nbconvert_exporter": "python",
   "pygments_lexer": "ipython3",
   "version": "3.12.5"
  }
 },
 "nbformat": 4,
 "nbformat_minor": 2
}
